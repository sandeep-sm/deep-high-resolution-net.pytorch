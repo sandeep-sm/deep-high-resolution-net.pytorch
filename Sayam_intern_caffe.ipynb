{
  "nbformat": 4,
  "nbformat_minor": 0,
  "metadata": {
    "colab": {
      "name": "Sayam_intern_caffe.ipynb",
      "provenance": [],
      "authorship_tag": "ABX9TyMcZ8exeI8xOMn82mCa27M8",
      "include_colab_link": true
    },
    "kernelspec": {
      "name": "python3",
      "display_name": "Python 3"
    },
    "language_info": {
      "name": "python"
    }
  },
  "cells": [
    {
      "cell_type": "markdown",
      "metadata": {
        "id": "view-in-github",
        "colab_type": "text"
      },
      "source": [
        "<a href=\"https://colab.research.google.com/github/sandeep-sm/deep-high-resolution-net.pytorch/blob/master/Sayam_intern_caffe.ipynb\" target=\"_parent\"><img src=\"https://colab.research.google.com/assets/colab-badge.svg\" alt=\"Open In Colab\"/></a>"
      ]
    },
    {
      "cell_type": "code",
      "execution_count": null,
      "metadata": {
        "id": "8-u4wrCApH1_"
      },
      "outputs": [],
      "source": [
        ""
      ]
    }
  ]
}