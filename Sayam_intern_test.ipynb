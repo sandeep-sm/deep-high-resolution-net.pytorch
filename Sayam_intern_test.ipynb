{
  "nbformat": 4,
  "nbformat_minor": 0,
  "metadata": {
    "colab": {
      "name": "Sayam_intern_test.ipynb",
      "provenance": [],
      "collapsed_sections": [],
      "authorship_tag": "ABX9TyM4o5dKpG1vPG0k+NHPpt2g",
      "include_colab_link": true
    },
    "kernelspec": {
      "name": "python3",
      "display_name": "Python 3"
    },
    "language_info": {
      "name": "python"
    }
  },
  "cells": [
    {
      "cell_type": "markdown",
      "metadata": {
        "id": "view-in-github",
        "colab_type": "text"
      },
      "source": [
        "<a href=\"https://colab.research.google.com/github/sandeep-sm/deep-high-resolution-net.pytorch/blob/master/Sayam_intern_test.ipynb\" target=\"_parent\"><img src=\"https://colab.research.google.com/assets/colab-badge.svg\" alt=\"Open In Colab\"/></a>"
      ]
    },
    {
      "cell_type": "code",
      "execution_count": 1,
      "metadata": {
        "id": "RGwebSKZ_WNj",
        "colab": {
          "base_uri": "https://localhost:8080/"
        },
        "outputId": "5cefe924-58c6-4f36-eb1c-9884b8b4b96b"
      },
      "outputs": [
        {
          "output_type": "stream",
          "name": "stdout",
          "text": [
            "Cloning into 'deep-high-resolution-net.pytorch'...\n",
            "remote: Enumerating objects: 293, done.\u001b[K\n",
            "remote: Counting objects: 100% (90/90), done.\u001b[K\n",
            "remote: Compressing objects: 100% (33/33), done.\u001b[K\n",
            "remote: Total 293 (delta 62), reused 57 (delta 57), pack-reused 203\u001b[K\n",
            "Receiving objects: 100% (293/293), 15.54 MiB | 14.85 MiB/s, done.\n",
            "Resolving deltas: 100% (139/139), done.\n"
          ]
        }
      ],
      "source": [
        "!git clone https://github.com/leoxiaobin/deep-high-resolution-net.pytorch.git\n"
      ]
    },
    {
      "cell_type": "code",
      "source": [
        "POSE_ROOT = '/content/deep-high-resolution-net.pytorch'\n",
        "%cd $POSE_ROOT \n",
        "!pwd\n",
        "!pip install -r requirements.txt \n",
        "%cd $POSE_ROOT/lib\n",
        "!make"
      ],
      "metadata": {
        "id": "yGWLB0KDA5vC",
        "colab": {
          "base_uri": "https://localhost:8080/"
        },
        "outputId": "f48de53c-30b6-4069-d74f-ea01b19feeb0"
      },
      "execution_count": 3,
      "outputs": [
        {
          "output_type": "stream",
          "name": "stdout",
          "text": [
            "/content/deep-high-resolution-net.pytorch\n",
            "/content/deep-high-resolution-net.pytorch\n",
            "Looking in indexes: https://pypi.org/simple, https://us-python.pkg.dev/colab-wheels/public/simple/\n",
            "Collecting EasyDict==1.7\n",
            "  Using cached easydict-1.7.tar.gz (6.2 kB)\n",
            "Collecting opencv-python==3.4.0.14\n",
            "  Downloading opencv-python-3.4.0.14.tar.gz (87.3 MB)\n",
            "\u001b[K     |████████████████████████████████| 87.3 MB 99 kB/s \n",
            "\u001b[?25hCollecting shapely==1.6.4\n",
            "  Downloading Shapely-1.6.4.tar.gz (224 kB)\n",
            "\u001b[K     |████████████████████████████████| 224 kB 56.7 MB/s \n",
            "\u001b[?25hRequirement already satisfied: Cython in /usr/local/lib/python3.7/dist-packages (from -r requirements.txt (line 4)) (0.29.30)\n",
            "Requirement already satisfied: scipy in /usr/local/lib/python3.7/dist-packages (from -r requirements.txt (line 5)) (1.4.1)\n",
            "Requirement already satisfied: pandas in /usr/local/lib/python3.7/dist-packages (from -r requirements.txt (line 6)) (1.3.5)\n",
            "Requirement already satisfied: pyyaml in /usr/local/lib/python3.7/dist-packages (from -r requirements.txt (line 7)) (3.13)\n",
            "Collecting json_tricks\n",
            "  Downloading json_tricks-3.15.5-py2.py3-none-any.whl (26 kB)\n",
            "Requirement already satisfied: scikit-image in /usr/local/lib/python3.7/dist-packages (from -r requirements.txt (line 9)) (0.18.3)\n",
            "Collecting yacs>=0.1.5\n",
            "  Downloading yacs-0.1.8-py3-none-any.whl (14 kB)\n",
            "Collecting tensorboardX==1.6\n",
            "  Downloading tensorboardX-1.6-py2.py3-none-any.whl (129 kB)\n",
            "\u001b[K     |████████████████████████████████| 129 kB 63.1 MB/s \n",
            "\u001b[?25hRequirement already satisfied: numpy>=1.21.6 in /usr/local/lib/python3.7/dist-packages (from opencv-python==3.4.0.14->-r requirements.txt (line 2)) (1.21.6)\n",
            "Requirement already satisfied: six in /usr/local/lib/python3.7/dist-packages (from tensorboardX==1.6->-r requirements.txt (line 11)) (1.15.0)\n",
            "Requirement already satisfied: protobuf>=3.2.0 in /usr/local/lib/python3.7/dist-packages (from tensorboardX==1.6->-r requirements.txt (line 11)) (3.17.3)\n",
            "Requirement already satisfied: python-dateutil>=2.7.3 in /usr/local/lib/python3.7/dist-packages (from pandas->-r requirements.txt (line 6)) (2.8.2)\n",
            "Requirement already satisfied: pytz>=2017.3 in /usr/local/lib/python3.7/dist-packages (from pandas->-r requirements.txt (line 6)) (2022.1)\n",
            "Requirement already satisfied: PyWavelets>=1.1.1 in /usr/local/lib/python3.7/dist-packages (from scikit-image->-r requirements.txt (line 9)) (1.3.0)\n",
            "Requirement already satisfied: matplotlib!=3.0.0,>=2.0.0 in /usr/local/lib/python3.7/dist-packages (from scikit-image->-r requirements.txt (line 9)) (3.2.2)\n",
            "Requirement already satisfied: tifffile>=2019.7.26 in /usr/local/lib/python3.7/dist-packages (from scikit-image->-r requirements.txt (line 9)) (2021.11.2)\n",
            "Requirement already satisfied: networkx>=2.0 in /usr/local/lib/python3.7/dist-packages (from scikit-image->-r requirements.txt (line 9)) (2.6.3)\n",
            "Requirement already satisfied: imageio>=2.3.0 in /usr/local/lib/python3.7/dist-packages (from scikit-image->-r requirements.txt (line 9)) (2.4.1)\n",
            "Requirement already satisfied: pillow!=7.1.0,!=7.1.1,>=4.3.0 in /usr/local/lib/python3.7/dist-packages (from scikit-image->-r requirements.txt (line 9)) (7.1.2)\n",
            "Requirement already satisfied: pyparsing!=2.0.4,!=2.1.2,!=2.1.6,>=2.0.1 in /usr/local/lib/python3.7/dist-packages (from matplotlib!=3.0.0,>=2.0.0->scikit-image->-r requirements.txt (line 9)) (3.0.9)\n",
            "Requirement already satisfied: kiwisolver>=1.0.1 in /usr/local/lib/python3.7/dist-packages (from matplotlib!=3.0.0,>=2.0.0->scikit-image->-r requirements.txt (line 9)) (1.4.2)\n",
            "Requirement already satisfied: cycler>=0.10 in /usr/local/lib/python3.7/dist-packages (from matplotlib!=3.0.0,>=2.0.0->scikit-image->-r requirements.txt (line 9)) (0.11.0)\n",
            "Requirement already satisfied: typing-extensions in /usr/local/lib/python3.7/dist-packages (from kiwisolver>=1.0.1->matplotlib!=3.0.0,>=2.0.0->scikit-image->-r requirements.txt (line 9)) (4.2.0)\n",
            "Building wheels for collected packages: EasyDict, opencv-python, shapely\n",
            "  Building wheel for EasyDict (setup.py) ... \u001b[?25l\u001b[?25hdone\n",
            "  Created wheel for EasyDict: filename=easydict-1.7-py3-none-any.whl size=6122 sha256=f3398e5bf1a1e1504ebdd60ad9e624a9e229274c6ef48dd0c0f1437c7996bb6a\n",
            "  Stored in directory: /root/.cache/pip/wheels/1d/be/cf/14f66f4c4cea5ebf212d9ce559c8a0d8f4882ecc7f59a6710c\n",
            "  Building wheel for opencv-python (setup.py) ... \u001b[?25lerror\n",
            "\u001b[31m  ERROR: Failed building wheel for opencv-python\u001b[0m\n",
            "\u001b[?25h  Running setup.py clean for opencv-python\n",
            "  Building wheel for shapely (setup.py) ... \u001b[?25l\u001b[?25hdone\n",
            "  Created wheel for shapely: filename=Shapely-1.6.4-cp37-cp37m-linux_x86_64.whl size=637646 sha256=f3328d032150fdfe22118a126b7e422b03853ecd36f1fd41e4d39d872dcda5ea\n",
            "  Stored in directory: /root/.cache/pip/wheels/e3/8a/b6/48c41d66a2abc4fe5cc0916fda5e0f7121f1e5266f71747256\n",
            "Successfully built EasyDict shapely\n",
            "Failed to build opencv-python\n",
            "Installing collected packages: yacs, tensorboardX, shapely, opencv-python, json-tricks, EasyDict\n",
            "  Attempting uninstall: shapely\n",
            "    Found existing installation: Shapely 1.8.2\n",
            "    Uninstalling Shapely-1.8.2:\n",
            "      Successfully uninstalled Shapely-1.8.2\n",
            "  Attempting uninstall: opencv-python\n",
            "    Found existing installation: opencv-python 4.1.2.30\n",
            "    Uninstalling opencv-python-4.1.2.30:\n",
            "      Successfully uninstalled opencv-python-4.1.2.30\n",
            "    Running setup.py install for opencv-python ... \u001b[?25l\u001b[?25herror\n",
            "  Rolling back uninstall of opencv-python\n",
            "  Moving to /usr/local/lib/python3.7/dist-packages/cv2/\n",
            "   from /usr/local/lib/python3.7/dist-packages/~v2\n",
            "  Moving to /usr/local/lib/python3.7/dist-packages/opencv_python-4.1.2.30.dist-info/\n",
            "   from /usr/local/lib/python3.7/dist-packages/~pencv_python-4.1.2.30.dist-info\n",
            "\u001b[31mERROR: Command errored out with exit status 1: /usr/bin/python3 -u -c 'import io, os, sys, setuptools, tokenize; sys.argv[0] = '\"'\"'/tmp/pip-install-vz53ealn/opencv-python_3915dea7b7f3420582f3ca2e20f5f89f/setup.py'\"'\"'; __file__='\"'\"'/tmp/pip-install-vz53ealn/opencv-python_3915dea7b7f3420582f3ca2e20f5f89f/setup.py'\"'\"';f = getattr(tokenize, '\"'\"'open'\"'\"', open)(__file__) if os.path.exists(__file__) else io.StringIO('\"'\"'from setuptools import setup; setup()'\"'\"');code = f.read().replace('\"'\"'\\r\\n'\"'\"', '\"'\"'\\n'\"'\"');f.close();exec(compile(code, __file__, '\"'\"'exec'\"'\"'))' install --record /tmp/pip-record-yp6v2gh3/install-record.txt --single-version-externally-managed --compile --install-headers /usr/local/include/python3.7/opencv-python Check the logs for full command output.\u001b[0m\n",
            "/content/deep-high-resolution-net.pytorch/lib\n",
            "cd nms; python setup_linux.py build_ext --inplace; rm -rf build; cd ../../\n",
            "running build_ext\n",
            "skipping 'cpu_nms.c' Cython extension (up-to-date)\n",
            "skipping 'gpu_nms.cpp' Cython extension (up-to-date)\n"
          ]
        }
      ]
    },
    {
      "cell_type": "code",
      "source": [
        "!pip install torch torchvision torchaudio --extra-index-url https://download.pytorch.org/whl/cpu"
      ],
      "metadata": {
        "colab": {
          "base_uri": "https://localhost:8080/"
        },
        "id": "cuIdIVaMm6zD",
        "outputId": "ff859220-b105-447e-aaef-68676873580e"
      },
      "execution_count": 4,
      "outputs": [
        {
          "output_type": "stream",
          "name": "stdout",
          "text": [
            "Looking in indexes: https://pypi.org/simple, https://us-python.pkg.dev/colab-wheels/public/simple/, https://download.pytorch.org/whl/cpu\n",
            "Requirement already satisfied: torch in /usr/local/lib/python3.7/dist-packages (1.11.0+cu113)\n",
            "Requirement already satisfied: torchvision in /usr/local/lib/python3.7/dist-packages (0.12.0+cu113)\n",
            "Requirement already satisfied: torchaudio in /usr/local/lib/python3.7/dist-packages (0.11.0+cu113)\n",
            "Requirement already satisfied: typing-extensions in /usr/local/lib/python3.7/dist-packages (from torch) (4.2.0)\n",
            "Requirement already satisfied: pillow!=8.3.*,>=5.3.0 in /usr/local/lib/python3.7/dist-packages (from torchvision) (7.1.2)\n",
            "Requirement already satisfied: numpy in /usr/local/lib/python3.7/dist-packages (from torchvision) (1.21.6)\n",
            "Requirement already satisfied: requests in /usr/local/lib/python3.7/dist-packages (from torchvision) (2.23.0)\n",
            "Requirement already satisfied: chardet<4,>=3.0.2 in /usr/local/lib/python3.7/dist-packages (from requests->torchvision) (3.0.4)\n",
            "Requirement already satisfied: idna<3,>=2.5 in /usr/local/lib/python3.7/dist-packages (from requests->torchvision) (2.10)\n",
            "Requirement already satisfied: urllib3!=1.25.0,!=1.25.1,<1.26,>=1.21.1 in /usr/local/lib/python3.7/dist-packages (from requests->torchvision) (1.24.3)\n",
            "Requirement already satisfied: certifi>=2017.4.17 in /usr/local/lib/python3.7/dist-packages (from requests->torchvision) (2022.5.18.1)\n"
          ]
        }
      ]
    },
    {
      "cell_type": "code",
      "source": [
        "COCOAPI='/content/COCOAPI'\n",
        "!git clone https://github.com/cocodataset/cocoapi.git $COCOAPI\n",
        "%cd $COCOAPI/PythonAPI\n",
        "!make install"
      ],
      "metadata": {
        "id": "vLkcORtiDIB1",
        "colab": {
          "base_uri": "https://localhost:8080/"
        },
        "outputId": "abd23f11-79c0-4a45-e660-a8feb873ad30"
      },
      "execution_count": 5,
      "outputs": [
        {
          "output_type": "stream",
          "name": "stdout",
          "text": [
            "Cloning into '/content/COCOAPI'...\n",
            "remote: Enumerating objects: 975, done.\u001b[K\n",
            "remote: Total 975 (delta 0), reused 0 (delta 0), pack-reused 975\u001b[K\n",
            "Receiving objects: 100% (975/975), 11.72 MiB | 13.72 MiB/s, done.\n",
            "Resolving deltas: 100% (576/576), done.\n",
            "/content/COCOAPI/PythonAPI\n",
            "# install pycocotools to the Python site-packages\n",
            "python setup.py build_ext install\n",
            "running build_ext\n",
            "cythoning pycocotools/_mask.pyx to pycocotools/_mask.c\n",
            "/usr/local/lib/python3.7/dist-packages/Cython/Compiler/Main.py:369: FutureWarning: Cython directive 'language_level' not set, using 2 for now (Py2). This will change in a later release! File: /content/COCOAPI/PythonAPI/pycocotools/_mask.pyx\n",
            "  tree = Parsing.p_module(s, pxd, full_module_name)\n",
            "building 'pycocotools._mask' extension\n",
            "creating build\n",
            "creating build/common\n",
            "creating build/temp.linux-x86_64-3.7\n",
            "creating build/temp.linux-x86_64-3.7/pycocotools\n",
            "x86_64-linux-gnu-gcc -pthread -Wno-unused-result -Wsign-compare -DNDEBUG -g -fwrapv -O2 -Wall -g -fstack-protector-strong -Wformat -Werror=format-security -g -fwrapv -O2 -g -fstack-protector-strong -Wformat -Werror=format-security -Wdate-time -D_FORTIFY_SOURCE=2 -fPIC -I/usr/local/lib/python3.7/dist-packages/numpy/core/include -I../common -I/usr/include/python3.7m -c ../common/maskApi.c -o build/temp.linux-x86_64-3.7/../common/maskApi.o -Wno-cpp -Wno-unused-function -std=c99\n",
            "\u001b[01m\u001b[K../common/maskApi.c:\u001b[m\u001b[K In function ‘\u001b[01m\u001b[KrleDecode\u001b[m\u001b[K’:\n",
            "\u001b[01m\u001b[K../common/maskApi.c:46:7:\u001b[m\u001b[K \u001b[01;35m\u001b[Kwarning: \u001b[m\u001b[Kthis ‘\u001b[01m\u001b[Kfor\u001b[m\u001b[K’ clause does not guard... [\u001b[01;35m\u001b[K-Wmisleading-indentation\u001b[m\u001b[K]\n",
            "       \u001b[01;35m\u001b[Kfor\u001b[m\u001b[K( k=0; k<R[i].cnts[j]; k++ ) *(M++)=v; v=!v; }}\n",
            "       \u001b[01;35m\u001b[K^~~\u001b[m\u001b[K\n",
            "\u001b[01m\u001b[K../common/maskApi.c:46:49:\u001b[m\u001b[K \u001b[01;36m\u001b[Knote: \u001b[m\u001b[K...this statement, but the latter is misleadingly indented as if it were guarded by the ‘\u001b[01m\u001b[Kfor\u001b[m\u001b[K’\n",
            "       for( k=0; k<R[i].cnts[j]; k++ ) *(M++)=v; \u001b[01;36m\u001b[Kv\u001b[m\u001b[K=!v; }}\n",
            "                                                 \u001b[01;36m\u001b[K^\u001b[m\u001b[K\n",
            "\u001b[01m\u001b[K../common/maskApi.c:\u001b[m\u001b[K In function ‘\u001b[01m\u001b[KrleFrPoly\u001b[m\u001b[K’:\n",
            "\u001b[01m\u001b[K../common/maskApi.c:166:3:\u001b[m\u001b[K \u001b[01;35m\u001b[Kwarning: \u001b[m\u001b[Kthis ‘\u001b[01m\u001b[Kfor\u001b[m\u001b[K’ clause does not guard... [\u001b[01;35m\u001b[K-Wmisleading-indentation\u001b[m\u001b[K]\n",
            "   \u001b[01;35m\u001b[Kfor\u001b[m\u001b[K(j=0; j<k; j++) x[j]=(int)(scale*xy[j*2+0]+.5); x[k]=x[0];\n",
            "   \u001b[01;35m\u001b[K^~~\u001b[m\u001b[K\n",
            "\u001b[01m\u001b[K../common/maskApi.c:166:54:\u001b[m\u001b[K \u001b[01;36m\u001b[Knote: \u001b[m\u001b[K...this statement, but the latter is misleadingly indented as if it were guarded by the ‘\u001b[01m\u001b[Kfor\u001b[m\u001b[K’\n",
            "   for(j=0; j<k; j++) x[j]=(int)(scale*xy[j*2+0]+.5); \u001b[01;36m\u001b[Kx\u001b[m\u001b[K[k]=x[0];\n",
            "                                                      \u001b[01;36m\u001b[K^\u001b[m\u001b[K\n",
            "\u001b[01m\u001b[K../common/maskApi.c:167:3:\u001b[m\u001b[K \u001b[01;35m\u001b[Kwarning: \u001b[m\u001b[Kthis ‘\u001b[01m\u001b[Kfor\u001b[m\u001b[K’ clause does not guard... [\u001b[01;35m\u001b[K-Wmisleading-indentation\u001b[m\u001b[K]\n",
            "   \u001b[01;35m\u001b[Kfor\u001b[m\u001b[K(j=0; j<k; j++) y[j]=(int)(scale*xy[j*2+1]+.5); y[k]=y[0];\n",
            "   \u001b[01;35m\u001b[K^~~\u001b[m\u001b[K\n",
            "\u001b[01m\u001b[K../common/maskApi.c:167:54:\u001b[m\u001b[K \u001b[01;36m\u001b[Knote: \u001b[m\u001b[K...this statement, but the latter is misleadingly indented as if it were guarded by the ‘\u001b[01m\u001b[Kfor\u001b[m\u001b[K’\n",
            "   for(j=0; j<k; j++) y[j]=(int)(scale*xy[j*2+1]+.5); \u001b[01;36m\u001b[Ky\u001b[m\u001b[K[k]=y[0];\n",
            "                                                      \u001b[01;36m\u001b[K^\u001b[m\u001b[K\n",
            "\u001b[01m\u001b[K../common/maskApi.c:\u001b[m\u001b[K In function ‘\u001b[01m\u001b[KrleToString\u001b[m\u001b[K’:\n",
            "\u001b[01m\u001b[K../common/maskApi.c:212:7:\u001b[m\u001b[K \u001b[01;35m\u001b[Kwarning: \u001b[m\u001b[Kthis ‘\u001b[01m\u001b[Kif\u001b[m\u001b[K’ clause does not guard... [\u001b[01;35m\u001b[K-Wmisleading-indentation\u001b[m\u001b[K]\n",
            "       \u001b[01;35m\u001b[Kif\u001b[m\u001b[K(more) c |= 0x20; c+=48; s[p++]=c;\n",
            "       \u001b[01;35m\u001b[K^~\u001b[m\u001b[K\n",
            "\u001b[01m\u001b[K../common/maskApi.c:212:27:\u001b[m\u001b[K \u001b[01;36m\u001b[Knote: \u001b[m\u001b[K...this statement, but the latter is misleadingly indented as if it were guarded by the ‘\u001b[01m\u001b[Kif\u001b[m\u001b[K’\n",
            "       if(more) c |= 0x20; \u001b[01;36m\u001b[Kc\u001b[m\u001b[K+=48; s[p++]=c;\n",
            "                           \u001b[01;36m\u001b[K^\u001b[m\u001b[K\n",
            "\u001b[01m\u001b[K../common/maskApi.c:\u001b[m\u001b[K In function ‘\u001b[01m\u001b[KrleFrString\u001b[m\u001b[K’:\n",
            "\u001b[01m\u001b[K../common/maskApi.c:220:3:\u001b[m\u001b[K \u001b[01;35m\u001b[Kwarning: \u001b[m\u001b[Kthis ‘\u001b[01m\u001b[Kwhile\u001b[m\u001b[K’ clause does not guard... [\u001b[01;35m\u001b[K-Wmisleading-indentation\u001b[m\u001b[K]\n",
            "   \u001b[01;35m\u001b[Kwhile\u001b[m\u001b[K( s[m] ) m++; cnts=malloc(sizeof(uint)*m); m=0;\n",
            "   \u001b[01;35m\u001b[K^~~~~\u001b[m\u001b[K\n",
            "\u001b[01m\u001b[K../common/maskApi.c:220:22:\u001b[m\u001b[K \u001b[01;36m\u001b[Knote: \u001b[m\u001b[K...this statement, but the latter is misleadingly indented as if it were guarded by the ‘\u001b[01m\u001b[Kwhile\u001b[m\u001b[K’\n",
            "   while( s[m] ) m++; \u001b[01;36m\u001b[Kcnts\u001b[m\u001b[K=malloc(sizeof(uint)*m); m=0;\n",
            "                      \u001b[01;36m\u001b[K^~~~\u001b[m\u001b[K\n",
            "\u001b[01m\u001b[K../common/maskApi.c:228:5:\u001b[m\u001b[K \u001b[01;35m\u001b[Kwarning: \u001b[m\u001b[Kthis ‘\u001b[01m\u001b[Kif\u001b[m\u001b[K’ clause does not guard... [\u001b[01;35m\u001b[K-Wmisleading-indentation\u001b[m\u001b[K]\n",
            "     \u001b[01;35m\u001b[Kif\u001b[m\u001b[K(m>2) x+=(long) cnts[m-2]; cnts[m++]=(uint) x;\n",
            "     \u001b[01;35m\u001b[K^~\u001b[m\u001b[K\n",
            "\u001b[01m\u001b[K../common/maskApi.c:228:34:\u001b[m\u001b[K \u001b[01;36m\u001b[Knote: \u001b[m\u001b[K...this statement, but the latter is misleadingly indented as if it were guarded by the ‘\u001b[01m\u001b[Kif\u001b[m\u001b[K’\n",
            "     if(m>2) x+=(long) cnts[m-2]; \u001b[01;36m\u001b[Kcnts\u001b[m\u001b[K[m++]=(uint) x;\n",
            "                                  \u001b[01;36m\u001b[K^~~~\u001b[m\u001b[K\n",
            "\u001b[01m\u001b[K../common/maskApi.c:\u001b[m\u001b[K In function ‘\u001b[01m\u001b[KrleToBbox\u001b[m\u001b[K’:\n",
            "\u001b[01m\u001b[K../common/maskApi.c:141:31:\u001b[m\u001b[K \u001b[01;35m\u001b[Kwarning: \u001b[m\u001b[K‘\u001b[01m\u001b[Kxp\u001b[m\u001b[K’ may be used uninitialized in this function [\u001b[01;35m\u001b[K-Wmaybe-uninitialized\u001b[m\u001b[K]\n",
            "       if(j%2==0) xp=x; else if\u001b[01;35m\u001b[K(\u001b[m\u001b[Kxp<x) { ys=0; ye=h-1; }\n",
            "                               \u001b[01;35m\u001b[K^\u001b[m\u001b[K\n",
            "x86_64-linux-gnu-gcc -pthread -Wno-unused-result -Wsign-compare -DNDEBUG -g -fwrapv -O2 -Wall -g -fstack-protector-strong -Wformat -Werror=format-security -g -fwrapv -O2 -g -fstack-protector-strong -Wformat -Werror=format-security -Wdate-time -D_FORTIFY_SOURCE=2 -fPIC -I/usr/local/lib/python3.7/dist-packages/numpy/core/include -I../common -I/usr/include/python3.7m -c pycocotools/_mask.c -o build/temp.linux-x86_64-3.7/pycocotools/_mask.o -Wno-cpp -Wno-unused-function -std=c99\n",
            "creating build/lib.linux-x86_64-3.7\n",
            "creating build/lib.linux-x86_64-3.7/pycocotools\n",
            "x86_64-linux-gnu-gcc -pthread -shared -Wl,-O1 -Wl,-Bsymbolic-functions -Wl,-Bsymbolic-functions -g -fwrapv -O2 -Wl,-Bsymbolic-functions -g -fwrapv -O2 -g -fstack-protector-strong -Wformat -Werror=format-security -Wdate-time -D_FORTIFY_SOURCE=2 build/temp.linux-x86_64-3.7/../common/maskApi.o build/temp.linux-x86_64-3.7/pycocotools/_mask.o -o build/lib.linux-x86_64-3.7/pycocotools/_mask.cpython-37m-x86_64-linux-gnu.so\n",
            "running install\n",
            "running bdist_egg\n",
            "running egg_info\n",
            "creating pycocotools.egg-info\n",
            "writing pycocotools.egg-info/PKG-INFO\n",
            "writing dependency_links to pycocotools.egg-info/dependency_links.txt\n",
            "writing requirements to pycocotools.egg-info/requires.txt\n",
            "writing top-level names to pycocotools.egg-info/top_level.txt\n",
            "writing manifest file 'pycocotools.egg-info/SOURCES.txt'\n",
            "writing manifest file 'pycocotools.egg-info/SOURCES.txt'\n",
            "installing library code to build/bdist.linux-x86_64/egg\n",
            "running install_lib\n",
            "running build_py\n",
            "copying pycocotools/coco.py -> build/lib.linux-x86_64-3.7/pycocotools\n",
            "copying pycocotools/mask.py -> build/lib.linux-x86_64-3.7/pycocotools\n",
            "copying pycocotools/__init__.py -> build/lib.linux-x86_64-3.7/pycocotools\n",
            "copying pycocotools/cocoeval.py -> build/lib.linux-x86_64-3.7/pycocotools\n",
            "creating build/bdist.linux-x86_64\n",
            "creating build/bdist.linux-x86_64/egg\n",
            "creating build/bdist.linux-x86_64/egg/pycocotools\n",
            "copying build/lib.linux-x86_64-3.7/pycocotools/coco.py -> build/bdist.linux-x86_64/egg/pycocotools\n",
            "copying build/lib.linux-x86_64-3.7/pycocotools/mask.py -> build/bdist.linux-x86_64/egg/pycocotools\n",
            "copying build/lib.linux-x86_64-3.7/pycocotools/_mask.cpython-37m-x86_64-linux-gnu.so -> build/bdist.linux-x86_64/egg/pycocotools\n",
            "copying build/lib.linux-x86_64-3.7/pycocotools/__init__.py -> build/bdist.linux-x86_64/egg/pycocotools\n",
            "copying build/lib.linux-x86_64-3.7/pycocotools/cocoeval.py -> build/bdist.linux-x86_64/egg/pycocotools\n",
            "byte-compiling build/bdist.linux-x86_64/egg/pycocotools/coco.py to coco.cpython-37.pyc\n",
            "byte-compiling build/bdist.linux-x86_64/egg/pycocotools/mask.py to mask.cpython-37.pyc\n",
            "byte-compiling build/bdist.linux-x86_64/egg/pycocotools/__init__.py to __init__.cpython-37.pyc\n",
            "byte-compiling build/bdist.linux-x86_64/egg/pycocotools/cocoeval.py to cocoeval.cpython-37.pyc\n",
            "creating stub loader for pycocotools/_mask.cpython-37m-x86_64-linux-gnu.so\n",
            "byte-compiling build/bdist.linux-x86_64/egg/pycocotools/_mask.py to _mask.cpython-37.pyc\n",
            "creating build/bdist.linux-x86_64/egg/EGG-INFO\n",
            "copying pycocotools.egg-info/PKG-INFO -> build/bdist.linux-x86_64/egg/EGG-INFO\n",
            "copying pycocotools.egg-info/SOURCES.txt -> build/bdist.linux-x86_64/egg/EGG-INFO\n",
            "copying pycocotools.egg-info/dependency_links.txt -> build/bdist.linux-x86_64/egg/EGG-INFO\n",
            "copying pycocotools.egg-info/requires.txt -> build/bdist.linux-x86_64/egg/EGG-INFO\n",
            "copying pycocotools.egg-info/top_level.txt -> build/bdist.linux-x86_64/egg/EGG-INFO\n",
            "writing build/bdist.linux-x86_64/egg/EGG-INFO/native_libs.txt\n",
            "zip_safe flag not set; analyzing archive contents...\n",
            "pycocotools.__pycache__._mask.cpython-37: module references __file__\n",
            "creating dist\n",
            "creating 'dist/pycocotools-2.0-py3.7-linux-x86_64.egg' and adding 'build/bdist.linux-x86_64/egg' to it\n",
            "removing 'build/bdist.linux-x86_64/egg' (and everything under it)\n",
            "Processing pycocotools-2.0-py3.7-linux-x86_64.egg\n",
            "creating /usr/local/lib/python3.7/dist-packages/pycocotools-2.0-py3.7-linux-x86_64.egg\n",
            "Extracting pycocotools-2.0-py3.7-linux-x86_64.egg to /usr/local/lib/python3.7/dist-packages\n",
            "Adding pycocotools 2.0 to easy-install.pth file\n",
            "\n",
            "Installed /usr/local/lib/python3.7/dist-packages/pycocotools-2.0-py3.7-linux-x86_64.egg\n",
            "Processing dependencies for pycocotools==2.0\n",
            "Searching for matplotlib==3.2.2\n",
            "Best match: matplotlib 3.2.2\n",
            "Adding matplotlib 3.2.2 to easy-install.pth file\n",
            "\n",
            "Using /usr/local/lib/python3.7/dist-packages\n",
            "Searching for Cython==0.29.30\n",
            "Best match: Cython 0.29.30\n",
            "Adding Cython 0.29.30 to easy-install.pth file\n",
            "Installing cygdb script to /usr/local/bin\n",
            "Installing cython script to /usr/local/bin\n",
            "Installing cythonize script to /usr/local/bin\n",
            "\n",
            "Using /usr/local/lib/python3.7/dist-packages\n",
            "Searching for setuptools==57.4.0\n",
            "Best match: setuptools 57.4.0\n",
            "Adding setuptools 57.4.0 to easy-install.pth file\n",
            "\n",
            "Using /usr/local/lib/python3.7/dist-packages\n",
            "Searching for kiwisolver==1.4.2\n",
            "Best match: kiwisolver 1.4.2\n",
            "Adding kiwisolver 1.4.2 to easy-install.pth file\n",
            "\n",
            "Using /usr/local/lib/python3.7/dist-packages\n",
            "Searching for pyparsing==3.0.9\n",
            "Best match: pyparsing 3.0.9\n",
            "Adding pyparsing 3.0.9 to easy-install.pth file\n",
            "\n",
            "Using /usr/local/lib/python3.7/dist-packages\n",
            "Searching for python-dateutil==2.8.2\n",
            "Best match: python-dateutil 2.8.2\n",
            "Adding python-dateutil 2.8.2 to easy-install.pth file\n",
            "\n",
            "Using /usr/local/lib/python3.7/dist-packages\n",
            "Searching for numpy==1.21.6\n",
            "Best match: numpy 1.21.6\n",
            "Adding numpy 1.21.6 to easy-install.pth file\n",
            "Installing f2py script to /usr/local/bin\n",
            "Installing f2py3 script to /usr/local/bin\n",
            "Installing f2py3.7 script to /usr/local/bin\n",
            "\n",
            "Using /usr/local/lib/python3.7/dist-packages\n",
            "Searching for cycler==0.11.0\n",
            "Best match: cycler 0.11.0\n",
            "Adding cycler 0.11.0 to easy-install.pth file\n",
            "\n",
            "Using /usr/local/lib/python3.7/dist-packages\n",
            "Searching for typing-extensions==4.2.0\n",
            "Best match: typing-extensions 4.2.0\n",
            "Adding typing-extensions 4.2.0 to easy-install.pth file\n",
            "\n",
            "Using /usr/local/lib/python3.7/dist-packages\n",
            "Searching for six==1.15.0\n",
            "Best match: six 1.15.0\n",
            "Adding six 1.15.0 to easy-install.pth file\n",
            "\n",
            "Using /usr/local/lib/python3.7/dist-packages\n",
            "Finished processing dependencies for pycocotools==2.0\n",
            "rm -rf build\n"
          ]
        }
      ]
    },
    {
      "cell_type": "code",
      "source": [
        "%cd $POSE_ROOT\n",
        "!mkdir output \n",
        "!mkdir log"
      ],
      "metadata": {
        "id": "vfuYKqfHD1Yc",
        "colab": {
          "base_uri": "https://localhost:8080/"
        },
        "outputId": "d26f2a55-dc6b-499e-cb68-a3aa5f66158a"
      },
      "execution_count": 6,
      "outputs": [
        {
          "output_type": "stream",
          "name": "stdout",
          "text": [
            "/content/deep-high-resolution-net.pytorch\n"
          ]
        }
      ]
    },
    {
      "cell_type": "code",
      "source": [
        "!pip install gdown"
      ],
      "metadata": {
        "id": "0Dje248PRidx",
        "outputId": "571ead9c-32f4-43c9-ff68-dcb1d0eb2e2f",
        "colab": {
          "base_uri": "https://localhost:8080/"
        }
      },
      "execution_count": 11,
      "outputs": [
        {
          "output_type": "stream",
          "name": "stdout",
          "text": [
            "Looking in indexes: https://pypi.org/simple, https://us-python.pkg.dev/colab-wheels/public/simple/\n",
            "Requirement already satisfied: gdown in /usr/local/lib/python3.7/dist-packages (4.4.0)\n",
            "Requirement already satisfied: requests[socks] in /usr/local/lib/python3.7/dist-packages (from gdown) (2.23.0)\n",
            "Requirement already satisfied: tqdm in /usr/local/lib/python3.7/dist-packages (from gdown) (4.64.0)\n",
            "Requirement already satisfied: beautifulsoup4 in /usr/local/lib/python3.7/dist-packages (from gdown) (4.6.3)\n",
            "Requirement already satisfied: six in /usr/local/lib/python3.7/dist-packages (from gdown) (1.15.0)\n",
            "Requirement already satisfied: filelock in /usr/local/lib/python3.7/dist-packages (from gdown) (3.7.0)\n",
            "Requirement already satisfied: chardet<4,>=3.0.2 in /usr/local/lib/python3.7/dist-packages (from requests[socks]->gdown) (3.0.4)\n",
            "Requirement already satisfied: idna<3,>=2.5 in /usr/local/lib/python3.7/dist-packages (from requests[socks]->gdown) (2.10)\n",
            "Requirement already satisfied: certifi>=2017.4.17 in /usr/local/lib/python3.7/dist-packages (from requests[socks]->gdown) (2022.5.18.1)\n",
            "Requirement already satisfied: urllib3!=1.25.0,!=1.25.1,<1.26,>=1.21.1 in /usr/local/lib/python3.7/dist-packages (from requests[socks]->gdown) (1.24.3)\n",
            "Requirement already satisfied: PySocks!=1.5.7,>=1.5.6 in /usr/local/lib/python3.7/dist-packages (from requests[socks]->gdown) (1.7.1)\n"
          ]
        }
      ]
    },
    {
      "cell_type": "code",
      "source": [
        "%cd $POSE_ROOT\n",
        "!rm -rf models\n",
        "!mkdir models\n",
        "!gdown https://drive.google.com/drive/folders/1hOTihvbyIxsm5ygDpbUuJ7O_tzv4oXjC --folder"
      ],
      "metadata": {
        "id": "t9q4__-kRnKw",
        "outputId": "3f96a32f-7bc7-4e46-9fbd-d4d826e22032",
        "colab": {
          "base_uri": "https://localhost:8080/"
        }
      },
      "execution_count": 18,
      "outputs": [
        {
          "output_type": "stream",
          "name": "stdout",
          "text": [
            "/content/deep-high-resolution-net.pytorch\n",
            "Retrieving folder list\n",
            "Retrieving folder 14p2l1u19bLOm5p6esKyolYJyfE1_inLv pytorch\n",
            "Retrieving folder 1E6j6W7RqGhW1o7UHgiQ9X4g8fVJRU9TX imagenet\n",
            "Processing file 1aTXmxKAJVLsXbvM-TmQ0ZjJxP868G73q hrnet_w32-36af842e.pth\n",
            "Processing file 1qm5-QfHTz5Ia71ByZ1Haq5zJpyEbZRoc hrnet_w48-8ef0771d.pth\n",
            "Processing file 1b69J7A4uwuC46C0VsFniS-j4sqcHXOrh resnet50-19c8e357.pth\n",
            "Processing file 1IZ1lAgoQqOEHv1l77Z1e70hiID6xn_mi resnet101-5d3b4d8f.pth\n",
            "Processing file 1Z8lbcRYswOEDG6vFWQlMBWN-tlxg8Mn7 resnet152-b121ed2d.pth\n",
            "Retrieving folder 1nzM_OBV9LbAEA7HClC0chEyf_7ECDXYA pose_coco\n",
            "Processing file 1zYC7go9EV0XaSlSBjMaiyE_4TcHc_S38 pose_hrnet_w32_256x192.pth\n",
            "Processing file 1fGN2P81JEgzjLxCn5_PaOwaoUwT0Ybc3 pose_hrnet_w32_384x288.pth\n",
            "Processing file 15T2XqPjW7Ex0uyC1miGVYUv7ULOxIyJI pose_hrnet_w48_256x192.pth\n",
            "Processing file 1UoJhTtjHNByZSm96W3yFTfU5upJnsKiS pose_hrnet_w48_384x288.pth\n",
            "Processing file 1G5vwpkN6Dr7k1Y0mpo3Cai0uHklQzNmY pose_resnet_50_256x192.pth\n",
            "Processing file 1aLIfZatV7RdS5T79YH-Vahopgw0iUYiQ pose_resnet_50_384x288.pth\n",
            "Processing file 1mBmyiQN5VMDhxtla-tMY7Q0KNBGVBNF0 pose_resnet_101_256x192.pth\n",
            "Processing file 188-cuBuE7liqk75gWJI-l-NYc-dGcheE pose_resnet_101_384x288.pth\n",
            "Processing file 1ojR45djStPOK9W2V3bfdhDGg67Z1n4oh pose_resnet_152_256x192.pth\n",
            "Processing file 1qST_14KwUxQwJeEkExm0kTSdna-zK8hl pose_resnet_152_384x288.pth\n",
            "Retrieving folder 1Y7IpFRtSmpbAUriLWchfdRXYCf3iUWLw pose_mpii\n",
            "Processing file 1_wn2ifmoQprBrFvUCDedjPON4Y6jsN-v pose_hrnet_w32_256x256.pth\n",
            "Processing file 1bmmFeXnq8rjm8LHtzpBKTqPAvo_1xql_ pose_resnet_50_256x256.pth\n",
            "Processing file 1IQQ22cwJXpiIWr2RNeW3bxabC-1LvKNd pose_resnet_101_256x256.pth\n",
            "Processing file 1YNQDH1ibUplj0TmvFJd8K39dHv61XqS9 pose_resnet_152_256x256.pth\n",
            "Retrieving folder list completed\n",
            "Building directory structure\n",
            "Building directory structure completed\n",
            "Downloading...\n",
            "From: https://drive.google.com/uc?id=1aTXmxKAJVLsXbvM-TmQ0ZjJxP868G73q\n",
            "To: /content/deep-high-resolution-net.pytorch/models/pytorch/imagenet/hrnet_w32-36af842e.pth\n",
            "100% 133M/133M [00:00<00:00, 220MB/s]\n",
            "Downloading...\n",
            "From: https://drive.google.com/uc?id=1qm5-QfHTz5Ia71ByZ1Haq5zJpyEbZRoc\n",
            "To: /content/deep-high-resolution-net.pytorch/models/pytorch/imagenet/hrnet_w48-8ef0771d.pth\n",
            "100% 277M/277M [00:01<00:00, 223MB/s]\n",
            "Downloading...\n",
            "From: https://drive.google.com/uc?id=1b69J7A4uwuC46C0VsFniS-j4sqcHXOrh\n",
            "To: /content/deep-high-resolution-net.pytorch/models/pytorch/imagenet/resnet50-19c8e357.pth\n",
            "100% 103M/103M [00:00<00:00, 198MB/s] \n",
            "Downloading...\n",
            "From: https://drive.google.com/uc?id=1IZ1lAgoQqOEHv1l77Z1e70hiID6xn_mi\n",
            "To: /content/deep-high-resolution-net.pytorch/models/pytorch/imagenet/resnet101-5d3b4d8f.pth\n",
            "100% 179M/179M [00:00<00:00, 238MB/s]\n",
            "Downloading...\n",
            "From: https://drive.google.com/uc?id=1Z8lbcRYswOEDG6vFWQlMBWN-tlxg8Mn7\n",
            "To: /content/deep-high-resolution-net.pytorch/models/pytorch/imagenet/resnet152-b121ed2d.pth\n",
            "100% 242M/242M [00:01<00:00, 196MB/s]\n",
            "Downloading...\n",
            "From: https://drive.google.com/uc?id=1zYC7go9EV0XaSlSBjMaiyE_4TcHc_S38\n",
            "To: /content/deep-high-resolution-net.pytorch/models/pytorch/pose_coco/pose_hrnet_w32_256x192.pth\n",
            "100% 115M/115M [00:00<00:00, 160MB/s]\n",
            "Downloading...\n",
            "From: https://drive.google.com/uc?id=1fGN2P81JEgzjLxCn5_PaOwaoUwT0Ybc3\n",
            "To: /content/deep-high-resolution-net.pytorch/models/pytorch/pose_coco/pose_hrnet_w32_384x288.pth\n",
            "100% 115M/115M [00:00<00:00, 219MB/s]\n",
            "Downloading...\n",
            "From: https://drive.google.com/uc?id=15T2XqPjW7Ex0uyC1miGVYUv7ULOxIyJI\n",
            "To: /content/deep-high-resolution-net.pytorch/models/pytorch/pose_coco/pose_hrnet_w48_256x192.pth\n",
            "100% 255M/255M [00:01<00:00, 203MB/s]\n",
            "Downloading...\n",
            "From: https://drive.google.com/uc?id=1UoJhTtjHNByZSm96W3yFTfU5upJnsKiS\n",
            "To: /content/deep-high-resolution-net.pytorch/models/pytorch/pose_coco/pose_hrnet_w48_384x288.pth\n",
            "100% 255M/255M [00:01<00:00, 132MB/s]\n",
            "Downloading...\n",
            "From: https://drive.google.com/uc?id=1G5vwpkN6Dr7k1Y0mpo3Cai0uHklQzNmY\n",
            "To: /content/deep-high-resolution-net.pytorch/models/pytorch/pose_coco/pose_resnet_50_256x192.pth\n",
            "100% 136M/136M [00:00<00:00, 203MB/s]\n",
            "Downloading...\n",
            "From: https://drive.google.com/uc?id=1aLIfZatV7RdS5T79YH-Vahopgw0iUYiQ\n",
            "To: /content/deep-high-resolution-net.pytorch/models/pytorch/pose_coco/pose_resnet_50_384x288.pth\n",
            "100% 136M/136M [00:00<00:00, 209MB/s]\n",
            "Downloading...\n",
            "From: https://drive.google.com/uc?id=1mBmyiQN5VMDhxtla-tMY7Q0KNBGVBNF0\n",
            "To: /content/deep-high-resolution-net.pytorch/models/pytorch/pose_coco/pose_resnet_101_256x192.pth\n",
            "100% 212M/212M [00:00<00:00, 216MB/s]\n",
            "Downloading...\n",
            "From: https://drive.google.com/uc?id=188-cuBuE7liqk75gWJI-l-NYc-dGcheE\n",
            "To: /content/deep-high-resolution-net.pytorch/models/pytorch/pose_coco/pose_resnet_101_384x288.pth\n",
            "100% 212M/212M [00:00<00:00, 217MB/s]\n",
            "Downloading...\n",
            "From: https://drive.google.com/uc?id=1ojR45djStPOK9W2V3bfdhDGg67Z1n4oh\n",
            "To: /content/deep-high-resolution-net.pytorch/models/pytorch/pose_coco/pose_resnet_152_256x192.pth\n",
            "100% 275M/275M [00:01<00:00, 248MB/s]\n",
            "Downloading...\n",
            "From: https://drive.google.com/uc?id=1qST_14KwUxQwJeEkExm0kTSdna-zK8hl\n",
            "To: /content/deep-high-resolution-net.pytorch/models/pytorch/pose_coco/pose_resnet_152_384x288.pth\n",
            "100% 275M/275M [00:02<00:00, 103MB/s] \n",
            "Downloading...\n",
            "From: https://drive.google.com/uc?id=1_wn2ifmoQprBrFvUCDedjPON4Y6jsN-v\n",
            "To: /content/deep-high-resolution-net.pytorch/models/pytorch/pose_mpii/pose_hrnet_w32_256x256.pth\n",
            "100% 115M/115M [00:00<00:00, 209MB/s]\n",
            "Downloading...\n",
            "From: https://drive.google.com/uc?id=1bmmFeXnq8rjm8LHtzpBKTqPAvo_1xql_\n",
            "To: /content/deep-high-resolution-net.pytorch/models/pytorch/pose_mpii/pose_resnet_50_256x256.pth\n",
            "100% 136M/136M [00:02<00:00, 57.2MB/s]\n",
            "Downloading...\n",
            "From: https://drive.google.com/uc?id=1IQQ22cwJXpiIWr2RNeW3bxabC-1LvKNd\n",
            "To: /content/deep-high-resolution-net.pytorch/models/pytorch/pose_mpii/pose_resnet_101_256x256.pth\n",
            "100% 212M/212M [00:03<00:00, 59.3MB/s]\n",
            "Downloading...\n",
            "From: https://drive.google.com/uc?id=1YNQDH1ibUplj0TmvFJd8K39dHv61XqS9\n",
            "To: /content/deep-high-resolution-net.pytorch/models/pytorch/pose_mpii/pose_resnet_152_256x256.pth\n",
            "100% 275M/275M [00:03<00:00, 70.4MB/s]\n",
            "Download completed\n"
          ]
        }
      ]
    },
    {
      "cell_type": "code",
      "source": [
        ""
      ],
      "metadata": {
        "id": "uh3JhBeGnoms"
      },
      "execution_count": 8,
      "outputs": []
    },
    {
      "cell_type": "markdown",
      "source": [
        "# New Section"
      ],
      "metadata": {
        "id": "7Lq7n9e1AwIV"
      }
    }
  ]
}