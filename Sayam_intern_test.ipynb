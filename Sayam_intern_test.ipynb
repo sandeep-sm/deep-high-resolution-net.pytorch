{
  "nbformat": 4,
  "nbformat_minor": 0,
  "metadata": {
    "colab": {
      "name": "Sayam_intern_test.ipynb",
      "provenance": [],
      "collapsed_sections": [],
      "authorship_tag": "ABX9TyNxfn9m1FfrN9h8Qkq7+Zlb",
      "include_colab_link": true
    },
    "kernelspec": {
      "name": "python3",
      "display_name": "Python 3"
    },
    "language_info": {
      "name": "python"
    }
  },
  "cells": [
    {
      "cell_type": "markdown",
      "metadata": {
        "id": "view-in-github",
        "colab_type": "text"
      },
      "source": [
        "<a href=\"https://colab.research.google.com/github/sandeep-sm/deep-high-resolution-net.pytorch/blob/master/Sayam_intern_test.ipynb\" target=\"_parent\"><img src=\"https://colab.research.google.com/assets/colab-badge.svg\" alt=\"Open In Colab\"/></a>"
      ]
    },
    {
      "cell_type": "code",
      "execution_count": 1,
      "metadata": {
        "id": "RGwebSKZ_WNj",
        "colab": {
          "base_uri": "https://localhost:8080/"
        },
        "outputId": "5cefe924-58c6-4f36-eb1c-9884b8b4b96b"
      },
      "outputs": [
        {
          "output_type": "stream",
          "name": "stdout",
          "text": [
            "Cloning into 'deep-high-resolution-net.pytorch'...\n",
            "remote: Enumerating objects: 293, done.\u001b[K\n",
            "remote: Counting objects: 100% (90/90), done.\u001b[K\n",
            "remote: Compressing objects: 100% (33/33), done.\u001b[K\n",
            "remote: Total 293 (delta 62), reused 57 (delta 57), pack-reused 203\u001b[K\n",
            "Receiving objects: 100% (293/293), 15.54 MiB | 14.85 MiB/s, done.\n",
            "Resolving deltas: 100% (139/139), done.\n"
          ]
        }
      ],
      "source": [
        "!git clone https://github.com/leoxiaobin/deep-high-resolution-net.pytorch.git\n"
      ]
    },
    {
      "cell_type": "code",
      "source": [
        "POSE_ROOT = '/content/deep-high-resolution-net.pytorch'\n",
        "%cd $POSE_ROOT \n",
        "!pwd\n",
        "!pip install -r requirements.txt \n",
        "%cd $POSE_ROOT/lib\n",
        "!make"
      ],
      "metadata": {
        "id": "yGWLB0KDA5vC",
        "colab": {
          "base_uri": "https://localhost:8080/"
        },
        "outputId": "f48de53c-30b6-4069-d74f-ea01b19feeb0"
      },
      "execution_count": 3,
      "outputs": [
        {
          "output_type": "stream",
          "name": "stdout",
          "text": [
            "/content/deep-high-resolution-net.pytorch\n",
            "/content/deep-high-resolution-net.pytorch\n",
            "Looking in indexes: https://pypi.org/simple, https://us-python.pkg.dev/colab-wheels/public/simple/\n",
            "Collecting EasyDict==1.7\n",
            "  Using cached easydict-1.7.tar.gz (6.2 kB)\n",
            "Collecting opencv-python==3.4.0.14\n",
            "  Downloading opencv-python-3.4.0.14.tar.gz (87.3 MB)\n",
            "\u001b[K     |████████████████████████████████| 87.3 MB 99 kB/s \n",
            "\u001b[?25hCollecting shapely==1.6.4\n",
            "  Downloading Shapely-1.6.4.tar.gz (224 kB)\n",
            "\u001b[K     |████████████████████████████████| 224 kB 56.7 MB/s \n",
            "\u001b[?25hRequirement already satisfied: Cython in /usr/local/lib/python3.7/dist-packages (from -r requirements.txt (line 4)) (0.29.30)\n",
            "Requirement already satisfied: scipy in /usr/local/lib/python3.7/dist-packages (from -r requirements.txt (line 5)) (1.4.1)\n",
            "Requirement already satisfied: pandas in /usr/local/lib/python3.7/dist-packages (from -r requirements.txt (line 6)) (1.3.5)\n",
            "Requirement already satisfied: pyyaml in /usr/local/lib/python3.7/dist-packages (from -r requirements.txt (line 7)) (3.13)\n",
            "Collecting json_tricks\n",
            "  Downloading json_tricks-3.15.5-py2.py3-none-any.whl (26 kB)\n",
            "Requirement already satisfied: scikit-image in /usr/local/lib/python3.7/dist-packages (from -r requirements.txt (line 9)) (0.18.3)\n",
            "Collecting yacs>=0.1.5\n",
            "  Downloading yacs-0.1.8-py3-none-any.whl (14 kB)\n",
            "Collecting tensorboardX==1.6\n",
            "  Downloading tensorboardX-1.6-py2.py3-none-any.whl (129 kB)\n",
            "\u001b[K     |████████████████████████████████| 129 kB 63.1 MB/s \n",
            "\u001b[?25hRequirement already satisfied: numpy>=1.21.6 in /usr/local/lib/python3.7/dist-packages (from opencv-python==3.4.0.14->-r requirements.txt (line 2)) (1.21.6)\n",
            "Requirement already satisfied: six in /usr/local/lib/python3.7/dist-packages (from tensorboardX==1.6->-r requirements.txt (line 11)) (1.15.0)\n",
            "Requirement already satisfied: protobuf>=3.2.0 in /usr/local/lib/python3.7/dist-packages (from tensorboardX==1.6->-r requirements.txt (line 11)) (3.17.3)\n",
            "Requirement already satisfied: python-dateutil>=2.7.3 in /usr/local/lib/python3.7/dist-packages (from pandas->-r requirements.txt (line 6)) (2.8.2)\n",
            "Requirement already satisfied: pytz>=2017.3 in /usr/local/lib/python3.7/dist-packages (from pandas->-r requirements.txt (line 6)) (2022.1)\n",
            "Requirement already satisfied: PyWavelets>=1.1.1 in /usr/local/lib/python3.7/dist-packages (from scikit-image->-r requirements.txt (line 9)) (1.3.0)\n",
            "Requirement already satisfied: matplotlib!=3.0.0,>=2.0.0 in /usr/local/lib/python3.7/dist-packages (from scikit-image->-r requirements.txt (line 9)) (3.2.2)\n",
            "Requirement already satisfied: tifffile>=2019.7.26 in /usr/local/lib/python3.7/dist-packages (from scikit-image->-r requirements.txt (line 9)) (2021.11.2)\n",
            "Requirement already satisfied: networkx>=2.0 in /usr/local/lib/python3.7/dist-packages (from scikit-image->-r requirements.txt (line 9)) (2.6.3)\n",
            "Requirement already satisfied: imageio>=2.3.0 in /usr/local/lib/python3.7/dist-packages (from scikit-image->-r requirements.txt (line 9)) (2.4.1)\n",
            "Requirement already satisfied: pillow!=7.1.0,!=7.1.1,>=4.3.0 in /usr/local/lib/python3.7/dist-packages (from scikit-image->-r requirements.txt (line 9)) (7.1.2)\n",
            "Requirement already satisfied: pyparsing!=2.0.4,!=2.1.2,!=2.1.6,>=2.0.1 in /usr/local/lib/python3.7/dist-packages (from matplotlib!=3.0.0,>=2.0.0->scikit-image->-r requirements.txt (line 9)) (3.0.9)\n",
            "Requirement already satisfied: kiwisolver>=1.0.1 in /usr/local/lib/python3.7/dist-packages (from matplotlib!=3.0.0,>=2.0.0->scikit-image->-r requirements.txt (line 9)) (1.4.2)\n",
            "Requirement already satisfied: cycler>=0.10 in /usr/local/lib/python3.7/dist-packages (from matplotlib!=3.0.0,>=2.0.0->scikit-image->-r requirements.txt (line 9)) (0.11.0)\n",
            "Requirement already satisfied: typing-extensions in /usr/local/lib/python3.7/dist-packages (from kiwisolver>=1.0.1->matplotlib!=3.0.0,>=2.0.0->scikit-image->-r requirements.txt (line 9)) (4.2.0)\n",
            "Building wheels for collected packages: EasyDict, opencv-python, shapely\n",
            "  Building wheel for EasyDict (setup.py) ... \u001b[?25l\u001b[?25hdone\n",
            "  Created wheel for EasyDict: filename=easydict-1.7-py3-none-any.whl size=6122 sha256=f3398e5bf1a1e1504ebdd60ad9e624a9e229274c6ef48dd0c0f1437c7996bb6a\n",
            "  Stored in directory: /root/.cache/pip/wheels/1d/be/cf/14f66f4c4cea5ebf212d9ce559c8a0d8f4882ecc7f59a6710c\n",
            "  Building wheel for opencv-python (setup.py) ... \u001b[?25lerror\n",
            "\u001b[31m  ERROR: Failed building wheel for opencv-python\u001b[0m\n",
            "\u001b[?25h  Running setup.py clean for opencv-python\n",
            "  Building wheel for shapely (setup.py) ... \u001b[?25l\u001b[?25hdone\n",
            "  Created wheel for shapely: filename=Shapely-1.6.4-cp37-cp37m-linux_x86_64.whl size=637646 sha256=f3328d032150fdfe22118a126b7e422b03853ecd36f1fd41e4d39d872dcda5ea\n",
            "  Stored in directory: /root/.cache/pip/wheels/e3/8a/b6/48c41d66a2abc4fe5cc0916fda5e0f7121f1e5266f71747256\n",
            "Successfully built EasyDict shapely\n",
            "Failed to build opencv-python\n",
            "Installing collected packages: yacs, tensorboardX, shapely, opencv-python, json-tricks, EasyDict\n",
            "  Attempting uninstall: shapely\n",
            "    Found existing installation: Shapely 1.8.2\n",
            "    Uninstalling Shapely-1.8.2:\n",
            "      Successfully uninstalled Shapely-1.8.2\n",
            "  Attempting uninstall: opencv-python\n",
            "    Found existing installation: opencv-python 4.1.2.30\n",
            "    Uninstalling opencv-python-4.1.2.30:\n",
            "      Successfully uninstalled opencv-python-4.1.2.30\n",
            "    Running setup.py install for opencv-python ... \u001b[?25l\u001b[?25herror\n",
            "  Rolling back uninstall of opencv-python\n",
            "  Moving to /usr/local/lib/python3.7/dist-packages/cv2/\n",
            "   from /usr/local/lib/python3.7/dist-packages/~v2\n",
            "  Moving to /usr/local/lib/python3.7/dist-packages/opencv_python-4.1.2.30.dist-info/\n",
            "   from /usr/local/lib/python3.7/dist-packages/~pencv_python-4.1.2.30.dist-info\n",
            "\u001b[31mERROR: Command errored out with exit status 1: /usr/bin/python3 -u -c 'import io, os, sys, setuptools, tokenize; sys.argv[0] = '\"'\"'/tmp/pip-install-vz53ealn/opencv-python_3915dea7b7f3420582f3ca2e20f5f89f/setup.py'\"'\"'; __file__='\"'\"'/tmp/pip-install-vz53ealn/opencv-python_3915dea7b7f3420582f3ca2e20f5f89f/setup.py'\"'\"';f = getattr(tokenize, '\"'\"'open'\"'\"', open)(__file__) if os.path.exists(__file__) else io.StringIO('\"'\"'from setuptools import setup; setup()'\"'\"');code = f.read().replace('\"'\"'\\r\\n'\"'\"', '\"'\"'\\n'\"'\"');f.close();exec(compile(code, __file__, '\"'\"'exec'\"'\"'))' install --record /tmp/pip-record-yp6v2gh3/install-record.txt --single-version-externally-managed --compile --install-headers /usr/local/include/python3.7/opencv-python Check the logs for full command output.\u001b[0m\n",
            "/content/deep-high-resolution-net.pytorch/lib\n",
            "cd nms; python setup_linux.py build_ext --inplace; rm -rf build; cd ../../\n",
            "running build_ext\n",
            "skipping 'cpu_nms.c' Cython extension (up-to-date)\n",
            "skipping 'gpu_nms.cpp' Cython extension (up-to-date)\n"
          ]
        }
      ]
    },
    {
      "cell_type": "code",
      "source": [
        "!pip install torch torchvision torchaudio --extra-index-url https://download.pytorch.org/whl/cpu"
      ],
      "metadata": {
        "colab": {
          "base_uri": "https://localhost:8080/"
        },
        "id": "cuIdIVaMm6zD",
        "outputId": "ff859220-b105-447e-aaef-68676873580e"
      },
      "execution_count": 4,
      "outputs": [
        {
          "output_type": "stream",
          "name": "stdout",
          "text": [
            "Looking in indexes: https://pypi.org/simple, https://us-python.pkg.dev/colab-wheels/public/simple/, https://download.pytorch.org/whl/cpu\n",
            "Requirement already satisfied: torch in /usr/local/lib/python3.7/dist-packages (1.11.0+cu113)\n",
            "Requirement already satisfied: torchvision in /usr/local/lib/python3.7/dist-packages (0.12.0+cu113)\n",
            "Requirement already satisfied: torchaudio in /usr/local/lib/python3.7/dist-packages (0.11.0+cu113)\n",
            "Requirement already satisfied: typing-extensions in /usr/local/lib/python3.7/dist-packages (from torch) (4.2.0)\n",
            "Requirement already satisfied: pillow!=8.3.*,>=5.3.0 in /usr/local/lib/python3.7/dist-packages (from torchvision) (7.1.2)\n",
            "Requirement already satisfied: numpy in /usr/local/lib/python3.7/dist-packages (from torchvision) (1.21.6)\n",
            "Requirement already satisfied: requests in /usr/local/lib/python3.7/dist-packages (from torchvision) (2.23.0)\n",
            "Requirement already satisfied: chardet<4,>=3.0.2 in /usr/local/lib/python3.7/dist-packages (from requests->torchvision) (3.0.4)\n",
            "Requirement already satisfied: idna<3,>=2.5 in /usr/local/lib/python3.7/dist-packages (from requests->torchvision) (2.10)\n",
            "Requirement already satisfied: urllib3!=1.25.0,!=1.25.1,<1.26,>=1.21.1 in /usr/local/lib/python3.7/dist-packages (from requests->torchvision) (1.24.3)\n",
            "Requirement already satisfied: certifi>=2017.4.17 in /usr/local/lib/python3.7/dist-packages (from requests->torchvision) (2022.5.18.1)\n"
          ]
        }
      ]
    },
    {
      "cell_type": "code",
      "source": [
        "COCOAPI='/content/COCOAPI'\n",
        "!git clone https://github.com/cocodataset/cocoapi.git $COCOAPI\n",
        "%cd $COCOAPI/PythonAPI\n",
        "!make install"
      ],
      "metadata": {
        "id": "vLkcORtiDIB1"
      },
      "execution_count": null,
      "outputs": []
    },
    {
      "cell_type": "code",
      "source": [
        "%cd $POSE_ROOT\n",
        "!mkdir output \n",
        "!mkdir log"
      ],
      "metadata": {
        "id": "vfuYKqfHD1Yc"
      },
      "execution_count": null,
      "outputs": []
    },
    {
      "cell_type": "code",
      "source": [
        "!wget --header=\"Host: doc-7k-5o-drive-data-export.googleusercontent.com\" --header=\"User-Agent: Mozilla/5.0 (Macintosh; Intel Mac OS X 10_15_7) AppleWebKit/537.36 (KHTML, like Gecko) Chrome/96.0.4664.55 Safari/537.36\" --header=\"Accept: text/html,application/xhtml+xml,application/xml;q=0.9,image/avif,image/webp,image/apng,*/*;q=0.8,application/signed-exchange;v=b3;q=0.9\" --header=\"Accept-Language: en-US,en;q=0.9\" --header=\"Cookie: AUTH_rtjvs7d2ht8111rcgo3j985sjd288ca9_nonce=bjprkh1ltrhe4\" --header=\"Connection: keep-alive\" \"https://doc-7k-5o-drive-data-export.googleusercontent.com/download/b7fps6a6jsmoqck731jomhujhbvh22ou/1p1fnlj3lealrig5ij9qhvl4e436h26h/1653309000000/c2d7301d-58ad-42c4-af82-cdc405f6d289/101094530346410248951/ADt3v-M46DFXfIMPckYOjRDAglbwvGQu-F_jvIllBy-RDhWz1fgpKe51i7AJsQEGCjBgABvyV9yqLEqmCQuT_OrP4j7IT41kdWowcBY-LkyZQjN0VrlF1md5QIJrL9ChtHMe6HRBm_pz03RkB4G621DeiM3hOm9v_FlJ6pTnTiYO9yWIdrS5BMPoDWnJIquLjJlu_f_wj5cQtMVnsv8ED-LQNKP_ozCJT3Q4V914B41tRSO4u_O8-fka-EjdHeq7kvD-NsMb8-4Qlc_elYVVTXhiyFxYf37q0q8StDOFOSnV9oE4VqHuUt_49oJ8aIEY2drZ-iuo5tDY?authuser=0&nonce=bjprkh1ltrhe4&user=101094530346410248951&hash=8h7k46caf47n3vt5q731oalq598g6rlr\" -c -O 'models-20220523T131727Z-001.zip'"
      ],
      "metadata": {
        "id": "iaoZ1PsIFKn1"
      },
      "execution_count": null,
      "outputs": []
    },
    {
      "cell_type": "code",
      "source": [
        "!wget --header=\"Host: doc-7k-5o-drive-data-export.googleusercontent.com\" --header=\"User-Agent: Mozilla/5.0 (Macintosh; Intel Mac OS X 10_15_7) AppleWebKit/537.36 (KHTML, like Gecko) Chrome/96.0.4664.55 Safari/537.36\" --header=\"Accept: text/html,application/xhtml+xml,application/xml;q=0.9,image/avif,image/webp,image/apng,*/*;q=0.8,application/signed-exchange;v=b3;q=0.9\" --header=\"Accept-Language: en-US,en;q=0.9\" --header=\"Cookie: AUTH_rtjvs7d2ht8111rcgo3j985sjd288ca9_nonce=bjprkh1ltrhe4\" --header=\"Connection: keep-alive\" \"https://doc-7k-5o-drive-data-export.googleusercontent.com/download/b7fps6a6jsmoqck731jomhujhbvh22ou/1p1fnlj3lealrig5ij9qhvl4e436h26h/1653309000000/c2d7301d-58ad-42c4-af82-cdc405f6d289/101094530346410248951/ADt3v-M46DFXfIMPckYOjRDAglbwvGQu-F_jvIllBy-RDhWz1fgpKe51i7AJsQEGCjBgABvyV9yqLEqmCQuT_OrP4j7IT41kdWowcBY-LkyZQjN0VrlF1md5QIJrL9ChtHMe6HRBm_pz03RkB4G621DeiM3hOm9v_FlJ6pTnTiYO9yWIdrS5BMPoDWnJIquLjJlu_f_wj5cQtMVnsv8ED-LQNKP_ozCJT3Q4V914B41tRSO4u_O8-fka-EjdHeq7kvD-NsMb8-4Qlc_elYVVTXhiyFxYf37q0q8StDOFOSnV9oE4VqHuUt_49oJ8aIEY2drZ-iuo5tDY?authuser=0&nonce=bjprkh1ltrhe4&user=101094530346410248951&hash=8h7k46caf47n3vt5q731oalq598g6rlr\" -c -O 'models-20220523T131727Z-002.zip'"
      ],
      "metadata": {
        "id": "k9P-8f-VE20o"
      },
      "execution_count": null,
      "outputs": []
    },
    {
      "cell_type": "code",
      "source": [
        ""
      ],
      "metadata": {
        "id": "uh3JhBeGnoms"
      },
      "execution_count": null,
      "outputs": []
    },
    {
      "cell_type": "markdown",
      "source": [
        "# New Section"
      ],
      "metadata": {
        "id": "7Lq7n9e1AwIV"
      }
    }
  ]
}